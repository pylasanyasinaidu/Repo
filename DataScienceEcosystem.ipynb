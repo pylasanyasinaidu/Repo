{
 "cells": [
  {
   "cell_type": "markdown",
   "id": "fbf3f496-d7df-453c-9d93-e9dcc45fd097",
   "metadata": {},
   "source": [
    "<h1> Data Science Tools and Ecosystem<h1>"
   ]
  },
  {
   "cell_type": "markdown",
   "id": "b85ed788-b2e6-402c-8137-87cf2c0ff2c7",
   "metadata": {},
   "source": [
    "In this notebook, Data Science Tools and Ecosystem are summarized."
   ]
  },
  {
   "cell_type": "markdown",
   "id": "c4ebec9c-731f-4e51-9d81-275dac85d8c0",
   "metadata": {},
   "source": [
    "<li>sql</li>\n",
    "<li>Python</li>\n",
    "<li>R</li>"
   ]
  },
  {
   "cell_type": "markdown",
   "id": "8ac50f10-f34d-4f40-b037-976a2dd75d33",
   "metadata": {},
   "source": [
    "Some of the popular languages that Data Scientists use are:\n",
    "<ol>\n",
    "<li>Python</li>\n",
    "<li>R</li>\n",
    "<li>SQL</li>\n",
    "<li>Java</li>\n",
    "<li>Julia</li>\n",
    "<li>Scala</li>\n",
    "<li>C/C++</li>\n",
    "<li>JavaScript</li>\n",
    "<li>Swift</li>\n",
    "<li>Go</li>\n",
    "<li>MATLAB</li>\n",
    "<li>SAS</li></ol>"
   ]
  },
  {
   "cell_type": "markdown",
   "id": "1c57382a-7696-4a32-ab9d-4c99937d607c",
   "metadata": {},
   "source": [
    "Some of the commonly used libraries used by Data Scientists include:\n",
    "<ol><li>TensorFlow</li>\n",
    "<li>NumPy</li>\n",
    "<li>SciPy</li>\n",
    "<li>Pandas</li>\n",
    "<li>Matplotlib</li> \n",
    "<li>Keras</li>\n",
    "<li>SciKit-Learn</li>\n",
    "<li>PyTorch</li></ol>\n"
   ]
  },
  {
   "cell_type": "markdown",
   "id": "11e43cee-cc16-417b-959d-74a50ca251b0",
   "metadata": {},
   "source": [
    "|<h3>Data Science Tools<h3>|\n",
    "|--------------------------|\n",
    "|Statistical Analysis System (SAS)|\n",
    "|Apache Hadoop|\n",
    "|Tableau|\n",
    "|TensorFlow|\n",
    "|BigML|\n",
    "|Knime|\n",
    "|RapidMiner|\n",
    "|Excel|\n",
    "|Apache Flink|\n",
    "|PowerBI|\n",
    "|Google Analytics|\n",
    "|Python|\n",
    "|R (RStudio)|\n",
    "|DataRobot|\n",
    "|D3.js|\n",
    "|Microsoft HDInsight|\n",
    "|Jupyter|\n",
    "|Matplotlib|\n",
    "|MATLAB|\n",
    "|QlikView|\n",
    "|PyTorch|\n",
    "|Pandas|\n",
    "|Scikit Learn|\n",
    "|WEKA|\n",
    "|Minitab|"
   ]
  },
  {
   "cell_type": "markdown",
   "id": "791a4e57-5c8f-446e-b50d-473b7630cd8a",
   "metadata": {},
   "source": [
    "<h3>Below are a few examples of evaluating arithmetic expressions in Python<h3>"
   ]
  },
  {
   "cell_type": "code",
   "execution_count": 2,
   "id": "3925eb5e-46f8-4a7c-8ac2-6da02a66a317",
   "metadata": {
    "tags": []
   },
   "outputs": [
    {
     "data": {
      "text/plain": [
       "17"
      ]
     },
     "execution_count": 2,
     "metadata": {},
     "output_type": "execute_result"
    }
   ],
   "source": [
    "# Create a code cell to multiply and add numbers\n",
    "(3*4)+5"
   ]
  },
  {
   "cell_type": "code",
   "execution_count": 3,
   "id": "f60c827f-5a2e-4246-a161-9ced81691c5f",
   "metadata": {
    "tags": []
   },
   "outputs": [
    {
     "name": "stdout",
     "output_type": "stream",
     "text": [
      "0days,3.3333333333333335hours,0mins.\n"
     ]
    }
   ],
   "source": [
    "days = 0\n",
    "hours = 0\n",
    "mins = 0\n",
    "\n",
    "time = 200\n",
    "#day=time/1440\n",
    "leftover_minutes=time%1440\n",
    "hours=leftover_minutes/60\n",
    "#mins=time-(days*1440)-(hours*60)\n",
    "print(str(days)+\"days,\"+str(hours)+\"hours,\"+str(mins)+\"mins.\")\n",
    "#result: 3.3333333333333335 hours"
   ]
  },
  {
   "cell_type": "markdown",
   "id": "5947816f-e375-4cb6-bc11-ddffcf42e9b5",
   "metadata": {},
   "source": [
    "<h2>Objectives:<h2>\n",
    "    <h5> <li>Add Comments to code cells</li>\n",
    "    <li>Create Markdown cells</li>\n",
    "    <li>Add ordered and unordered lists to markdown</li>\n",
    "    <li>Formate content of markdown cells with headling</li><h5>\n"
   ]
  },
  {
   "cell_type": "markdown",
   "id": "31db18b4-a31e-40bf-9731-001449d60690",
   "metadata": {
    "tags": []
   },
   "source": [
    "<h2>Author<h2>    \n",
    "<h5>Pyla Sanyasi Naidu<h5>\n"
   ]
  },
  {
   "cell_type": "code",
   "execution_count": null,
   "id": "e6e67bd6-b736-46ac-8b8b-8b8be6424054",
   "metadata": {},
   "outputs": [],
   "source": []
  }
 ],
 "metadata": {
  "kernelspec": {
   "display_name": "Python",
   "language": "python",
   "name": "conda-env-python-py"
  },
  "language_info": {
   "codemirror_mode": {
    "name": "ipython",
    "version": 3
   },
   "file_extension": ".py",
   "mimetype": "text/x-python",
   "name": "python",
   "nbconvert_exporter": "python",
   "pygments_lexer": "ipython3",
   "version": "3.7.12"
  }
 },
 "nbformat": 4,
 "nbformat_minor": 5
}
